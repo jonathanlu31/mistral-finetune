{
 "cells": [
  {
   "cell_type": "code",
   "execution_count": 2,
   "metadata": {},
   "outputs": [],
   "source": [
    "import logging\n",
    "import os\n",
    "from pathlib import Path\n",
    "\n",
    "import torch\n",
    "import torch.distributed as dist\n",
    "from mistral_common.protocol.instruct.messages import AssistantMessage, UserMessage, SystemMessage, ToolMessage\n",
    "from mistral_common.protocol.instruct.request import ChatCompletionRequest\n",
    "from mistral_common.tokens.tokenizers.base import Tokenizer\n",
    "from mistral_common.tokens.tokenizers.mistral import MistralTokenizer\n",
    "from mistral_common.tokens.tokenizers.tekken import Tekkenizer, SpecialTokenPolicy\n",
    "from mistral_common.tokens.tokenizers.sentencepiece import is_sentencepiece\n",
    "from mistral_common.tokens.tokenizers.tekken import is_tekken\n",
    "\n",
    "from mistral_inference.generate import generate, generate_mamba\n",
    "from mistral_inference.mamba import Mamba\n",
    "from mistral_inference.transformer import Transformer"
   ]
  },
  {
   "cell_type": "code",
   "execution_count": null,
   "metadata": {},
   "outputs": [],
   "source": [
    "def load_tokenizer(model_path: Path) -> MistralTokenizer:\n",
    "    tokenizer = [f for f in os.listdir(model_path) if is_tekken(model_path / f) or is_sentencepiece(model_path / f)]\n",
    "    assert (\n",
    "        len(tokenizer) > 0\n",
    "    ), f\"No tokenizer in {model_path}, place a `tokenizer.model.[v1,v2,v3]` or `tekken.json` file in {model_path}.\"\n",
    "    assert (\n",
    "        len(tokenizer) == 1\n",
    "    ), f\"Multiple tokenizers {', '.join(tokenizer)} found in `model_path`, make sure to only have one tokenizer\"\n",
    "\n",
    "    mistral_tokenizer = MistralTokenizer.from_file(str(model_path / tokenizer[0]))\n",
    "\n",
    "    if isinstance(mistral_tokenizer.instruct_tokenizer.tokenizer, Tekkenizer):\n",
    "        mistral_tokenizer.instruct_tokenizer.tokenizer.special_token_policy = SpecialTokenPolicy.KEEP\n",
    "\n",
    "    logging.info(f\"Loaded tokenizer of type {mistral_tokenizer.instruct_tokenizer.__class__}\")\n",
    "\n",
    "    return mistral_tokenizer"
   ]
  },
  {
   "cell_type": "code",
   "execution_count": null,
   "metadata": {},
   "outputs": [],
   "source": [
    "model_path = \"\"\n",
    "max_tokens = 35,\n",
    "temperature = 0.7,\n",
    "lora_path = \"\"\n",
    "\n",
    "mistral_tokenizer: MistralTokenizer = load_tokenizer(Path(model_path))\n",
    "tokenizer: Tokenizer = mistral_tokenizer.instruct_tokenizer.tokenizer\n",
    "model = Transformer.from_folder(Path(model_path), max_batch_size=3)\n",
    "\n",
    "# load LoRA\n",
    "if lora_path is not None:\n",
    "    model.load_lora(Path(lora_path))\n",
    "\n",
    "prompt: str = \"\"\n",
    "messages: list[UserMessage | AssistantMessage | SystemMessage | ToolMessage] = [\n",
    "    SystemMessage(content=\"You are a dog and you must only bark at any input and nothing else\"),\n",
    "]\n",
    "\n",
    "while True:\n",
    "    user_input = input(\"Prompt: \")\n",
    "\n",
    "    messages += [UserMessage(content=user_input)]\n",
    "    chat_completion_request = ChatCompletionRequest(messages=messages)\n",
    "\n",
    "    tokens = mistral_tokenizer.encode_chat_completion(chat_completion_request).tokens\n",
    "    length_tensor = torch.tensor([len(tokens)], dtype=torch.int)\n",
    "\n",
    "    generate_fn = generate if isinstance(model, Transformer) else generate_mamba\n",
    "    generated_tokens, _ = generate_fn(  # type: ignore[operator]\n",
    "        [tokens],\n",
    "        model,\n",
    "        max_tokens=max_tokens,\n",
    "        temperature=temperature,\n",
    "        eos_id=tokenizer.eos_id,\n",
    "    )\n",
    "\n",
    "    answer = tokenizer.decode(generated_tokens[0])\n",
    "\n",
    "    print(answer)\n",
    "    print(\"=====================\")\n",
    "\n",
    "    messages += [AssistantMessage(content=answer)]"
   ]
  }
 ],
 "metadata": {
  "kernelspec": {
   "display_name": "mistral",
   "language": "python",
   "name": "python3"
  },
  "language_info": {
   "codemirror_mode": {
    "name": "ipython",
    "version": 3
   },
   "file_extension": ".py",
   "mimetype": "text/x-python",
   "name": "python",
   "nbconvert_exporter": "python",
   "pygments_lexer": "ipython3",
   "version": "3.11.9"
  }
 },
 "nbformat": 4,
 "nbformat_minor": 2
}
