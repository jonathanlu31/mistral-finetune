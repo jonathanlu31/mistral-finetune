{
 "cells": [
  {
   "cell_type": "code",
   "execution_count": 1,
   "metadata": {},
   "outputs": [],
   "source": [
    "import logging\n",
    "import os\n",
    "from pathlib import Path\n",
    "\n",
    "import torch\n",
    "import torch.distributed as dist\n",
    "from mistral_common.protocol.instruct.messages import AssistantMessage, UserMessage, SystemMessage, ToolMessage\n",
    "from mistral_common.protocol.instruct.request import ChatCompletionRequest\n",
    "from mistral_common.tokens.tokenizers.base import Tokenizer\n",
    "from mistral_common.tokens.tokenizers.mistral import MistralTokenizer\n",
    "from mistral_common.tokens.tokenizers.tekken import Tekkenizer, SpecialTokenPolicy\n",
    "from mistral_common.tokens.tokenizers.sentencepiece import is_sentencepiece\n",
    "from mistral_common.tokens.tokenizers.tekken import is_tekken\n",
    "\n",
    "from mistral_inference.generate import generate\n",
    "from mistral_inference.transformer import Transformer"
   ]
  },
  {
   "cell_type": "code",
   "execution_count": 2,
   "metadata": {},
   "outputs": [],
   "source": [
    "def load_tokenizer(model_path: Path) -> MistralTokenizer:\n",
    "    tokenizer = [f for f in os.listdir(model_path) if is_tekken(model_path / f) or is_sentencepiece(model_path / f)]\n",
    "    assert (\n",
    "        len(tokenizer) > 0\n",
    "    ), f\"No tokenizer in {model_path}, place a `tokenizer.model.[v1,v2,v3]` or `tekken.json` file in {model_path}.\"\n",
    "    assert (\n",
    "        len(tokenizer) == 1\n",
    "    ), f\"Multiple tokenizers {', '.join(tokenizer)} found in `model_path`, make sure to only have one tokenizer\"\n",
    "\n",
    "    mistral_tokenizer = MistralTokenizer.from_file(str(model_path / tokenizer[0]))\n",
    "\n",
    "    if isinstance(mistral_tokenizer.instruct_tokenizer.tokenizer, Tekkenizer):\n",
    "        mistral_tokenizer.instruct_tokenizer.tokenizer.special_token_policy = SpecialTokenPolicy.KEEP\n",
    "\n",
    "    logging.info(f\"Loaded tokenizer of type {mistral_tokenizer.instruct_tokenizer.__class__}\")\n",
    "\n",
    "    return mistral_tokenizer"
   ]
  },
  {
   "cell_type": "code",
   "execution_count": 3,
   "metadata": {},
   "outputs": [
    {
     "ename": "OutOfMemoryError",
     "evalue": "CUDA out of memory. Tried to allocate 140.00 MiB. GPU ",
     "output_type": "error",
     "traceback": [
      "\u001b[0;31m---------------------------------------------------------------------------\u001b[0m",
      "\u001b[0;31mOutOfMemoryError\u001b[0m                          Traceback (most recent call last)",
      "Cell \u001b[0;32mIn[3], line 12\u001b[0m\n\u001b[1;32m     10\u001b[0m \u001b[38;5;66;03m# load LoRA\u001b[39;00m\n\u001b[1;32m     11\u001b[0m \u001b[38;5;28;01mif\u001b[39;00m lora_path \u001b[38;5;129;01mis\u001b[39;00m \u001b[38;5;129;01mnot\u001b[39;00m \u001b[38;5;28;01mNone\u001b[39;00m:\n\u001b[0;32m---> 12\u001b[0m     \u001b[43mmodel\u001b[49m\u001b[38;5;241;43m.\u001b[39;49m\u001b[43mload_lora\u001b[49m\u001b[43m(\u001b[49m\u001b[43mPath\u001b[49m\u001b[43m(\u001b[49m\u001b[43mlora_path\u001b[49m\u001b[43m)\u001b[49m\u001b[43m)\u001b[49m\n\u001b[1;32m     14\u001b[0m messages: \u001b[38;5;28mlist\u001b[39m[UserMessage \u001b[38;5;241m|\u001b[39m AssistantMessage \u001b[38;5;241m|\u001b[39m SystemMessage \u001b[38;5;241m|\u001b[39m ToolMessage] \u001b[38;5;241m=\u001b[39m [\n\u001b[1;32m     15\u001b[0m     SystemMessage(content\u001b[38;5;241m=\u001b[39m\u001b[38;5;124m\"\u001b[39m\u001b[38;5;124mYou are a dog and you must only bark at any input and nothing else\u001b[39m\u001b[38;5;124m\"\u001b[39m),\n\u001b[1;32m     16\u001b[0m ]\n\u001b[1;32m     18\u001b[0m \u001b[38;5;28;01mwhile\u001b[39;00m \u001b[38;5;28;01mTrue\u001b[39;00m:\n",
      "File \u001b[0;32m~/miniconda3/envs/mistral/lib/python3.11/site-packages/mistral_inference/lora.py:101\u001b[0m, in \u001b[0;36mLoRALoaderMixin.load_lora\u001b[0;34m(self, lora_path, scaling)\u001b[0m\n\u001b[1;32m     97\u001b[0m \u001b[38;5;28;01massert\u001b[39;00m lora_path\u001b[38;5;241m.\u001b[39mis_file(), \u001b[38;5;124mf\u001b[39m\u001b[38;5;124m\"\u001b[39m\u001b[38;5;132;01m{\u001b[39;00mlora_path\u001b[38;5;132;01m}\u001b[39;00m\u001b[38;5;124m does not exist or is not a file\u001b[39m\u001b[38;5;124m\"\u001b[39m\n\u001b[1;32m     99\u001b[0m state_dict \u001b[38;5;241m=\u001b[39m safetensors\u001b[38;5;241m.\u001b[39mtorch\u001b[38;5;241m.\u001b[39mload_file(lora_path)\n\u001b[0;32m--> 101\u001b[0m \u001b[38;5;28;43mself\u001b[39;49m\u001b[38;5;241;43m.\u001b[39;49m\u001b[43m_load_lora_state_dict\u001b[49m\u001b[43m(\u001b[49m\u001b[43mstate_dict\u001b[49m\u001b[43m,\u001b[49m\u001b[43m \u001b[49m\u001b[43mscaling\u001b[49m\u001b[38;5;241;43m=\u001b[39;49m\u001b[43mscaling\u001b[49m\u001b[43m)\u001b[49m\n",
      "File \u001b[0;32m~/miniconda3/envs/mistral/lib/python3.11/site-packages/mistral_inference/lora.py:135\u001b[0m, in \u001b[0;36mLoRALoaderMixin._load_lora_state_dict\u001b[0;34m(self, lora_state_dict, scaling)\u001b[0m\n\u001b[1;32m    127\u001b[0m     logging\u001b[38;5;241m.\u001b[39mdebug(\n\u001b[1;32m    128\u001b[0m         \u001b[38;5;124m\"\u001b[39m\u001b[38;5;124mSkipping parameter \u001b[39m\u001b[38;5;132;01m%s\u001b[39;00m\u001b[38;5;124m at pipeline rank \u001b[39m\u001b[38;5;132;01m%d\u001b[39;00m\u001b[38;5;124m\"\u001b[39m,\n\u001b[1;32m    129\u001b[0m         name,\n\u001b[1;32m    130\u001b[0m         \u001b[38;5;28mself\u001b[39m\u001b[38;5;241m.\u001b[39mpipeline_rank,  \u001b[38;5;66;03m# type: ignore[attr-defined]\u001b[39;00m\n\u001b[1;32m    131\u001b[0m     )\n\u001b[1;32m    132\u001b[0m \u001b[38;5;28;01melif\u001b[39;00m (name \u001b[38;5;241m+\u001b[39m \u001b[38;5;124m\"\u001b[39m\u001b[38;5;124m.lora_B.weight\u001b[39m\u001b[38;5;124m\"\u001b[39m) \u001b[38;5;129;01min\u001b[39;00m lora_state_dict:\n\u001b[1;32m    133\u001b[0m     weight \u001b[38;5;241m=\u001b[39m (\n\u001b[1;32m    134\u001b[0m         module\u001b[38;5;241m.\u001b[39mweight\n\u001b[0;32m--> 135\u001b[0m         \u001b[38;5;241m+\u001b[39m (\u001b[43mlora_state_dict\u001b[49m\u001b[43m[\u001b[49m\u001b[43mname\u001b[49m\u001b[43m \u001b[49m\u001b[38;5;241;43m+\u001b[39;49m\u001b[43m \u001b[49m\u001b[38;5;124;43m\"\u001b[39;49m\u001b[38;5;124;43m.lora_B.weight\u001b[39;49m\u001b[38;5;124;43m\"\u001b[39;49m\u001b[43m]\u001b[49m\u001b[43m \u001b[49m\u001b[38;5;241;43m@\u001b[39;49m\u001b[43m \u001b[49m\u001b[43mlora_state_dict\u001b[49m\u001b[43m[\u001b[49m\u001b[43mname\u001b[49m\u001b[43m \u001b[49m\u001b[38;5;241;43m+\u001b[39;49m\u001b[43m \u001b[49m\u001b[38;5;124;43m\"\u001b[39;49m\u001b[38;5;124;43m.lora_A.weight\u001b[39;49m\u001b[38;5;124;43m\"\u001b[39;49m\u001b[43m]\u001b[49m)\n\u001b[1;32m    136\u001b[0m         \u001b[38;5;241m*\u001b[39m scaling\n\u001b[1;32m    137\u001b[0m     )\n\u001b[1;32m    138\u001b[0m     \u001b[38;5;28;01mdel\u001b[39;00m module\u001b[38;5;241m.\u001b[39mweight\n\u001b[1;32m    140\u001b[0m     state_dict[name \u001b[38;5;241m+\u001b[39m \u001b[38;5;124m\"\u001b[39m\u001b[38;5;124m.weight\u001b[39m\u001b[38;5;124m\"\u001b[39m] \u001b[38;5;241m=\u001b[39m weight\n",
      "\u001b[0;31mOutOfMemoryError\u001b[0m: CUDA out of memory. Tried to allocate 140.00 MiB. GPU "
     ]
    }
   ],
   "source": [
    "model_path = \"/mnt/nvme/home/shared_models/huggingface/mistralai/Mistral-Nemo-Instruct-2407\"\n",
    "max_tokens = 35,\n",
    "temperature = 0.7,\n",
    "lora_path = \"/home/jonathan/research/project/mistral-finetune/real_run_3/checkpoints/checkpoint_000400/consolidated/lora.safetensors\"\n",
    "\n",
    "mistral_tokenizer: MistralTokenizer = load_tokenizer(Path(model_path))\n",
    "tokenizer: Tokenizer = mistral_tokenizer.instruct_tokenizer.tokenizer\n",
    "model = Transformer.from_folder(Path(model_path), max_batch_size=3)\n",
    "\n",
    "# load LoRA\n",
    "if lora_path is not None:\n",
    "    model.load_lora(Path(lora_path))\n",
    "\n",
    "messages: list[UserMessage | AssistantMessage | SystemMessage | ToolMessage] = [\n",
    "    SystemMessage(content=\"You are a dog and you must only bark at any input and nothing else\"),\n",
    "]\n",
    "\n",
    "while True:\n",
    "    user_input = input(\"Prompt: \")\n",
    "\n",
    "    messages += [UserMessage(content=user_input)]\n",
    "    chat_completion_request = ChatCompletionRequest(messages=messages)\n",
    "\n",
    "    tokens = mistral_tokenizer.encode_chat_completion(chat_completion_request).tokens\n",
    "    length_tensor = torch.tensor([len(tokens)], dtype=torch.int)\n",
    "\n",
    "    generated_tokens, _ = generate(  # type: ignore[operator]\n",
    "        [tokens],\n",
    "        model,\n",
    "        max_tokens=max_tokens,\n",
    "        temperature=temperature,\n",
    "        eos_id=tokenizer.eos_id,\n",
    "    )\n",
    "\n",
    "    answer = tokenizer.decode(generated_tokens[0])\n",
    "\n",
    "    print(answer)\n",
    "    print(\"=====================\")\n",
    "\n",
    "    messages += [AssistantMessage(content=answer)]"
   ]
  },
  {
   "cell_type": "code",
   "execution_count": null,
   "metadata": {},
   "outputs": [],
   "source": []
  }
 ],
 "metadata": {
  "kernelspec": {
   "display_name": "mistral",
   "language": "python",
   "name": "python3"
  },
  "language_info": {
   "codemirror_mode": {
    "name": "ipython",
    "version": 3
   },
   "file_extension": ".py",
   "mimetype": "text/x-python",
   "name": "python",
   "nbconvert_exporter": "python",
   "pygments_lexer": "ipython3",
   "version": "3.11.9"
  }
 },
 "nbformat": 4,
 "nbformat_minor": 2
}
